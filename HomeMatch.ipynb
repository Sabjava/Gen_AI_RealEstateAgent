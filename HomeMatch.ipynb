{
 "cells": [
  {
   "cell_type": "markdown",
   "id": "a108af04",
   "metadata": {},
   "source": [
    "This is a starter notebook for the project, you'll have to import the libraries you'll need, you can find a list of the ones available in this workspace in the requirements.txt file in this workspace. "
   ]
  },
  {
   "cell_type": "code",
   "execution_count": 2,
   "id": "6554fd4c",
   "metadata": {},
   "outputs": [],
   "source": [
    "import os\n",
    "\n",
    "os.environ[\"OPENAI_API_KEY\"] = \"xxx\"\n",
    "os.environ[\"OPENAI_API_BASE\"] = \"https://openai.vocareum.com/v1\"\n",
    "\n",
    "from langchain.llms import OpenAI\n"
   ]
  },
  {
   "cell_type": "code",
   "execution_count": 3,
   "id": "df1c0682",
   "metadata": {},
   "outputs": [],
   "source": [
    "MODEL_NAME = 'gpt-3.5-turbo'\n",
    "OPENAI_API_KEY = \"xxx\""
   ]
  },
  {
   "cell_type": "code",
   "execution_count": 4,
   "id": "b0733c82",
   "metadata": {},
   "outputs": [
    {
     "name": "stderr",
     "output_type": "stream",
     "text": [
      "/opt/conda/lib/python3.10/site-packages/langchain/llms/openai.py:202: UserWarning: You are trying to use a chat model. This way of initializing it is no longer supported. Instead, please use: `from langchain.chat_models import ChatOpenAI`\n",
      "  warnings.warn(\n",
      "/opt/conda/lib/python3.10/site-packages/langchain/llms/openai.py:790: UserWarning: You are trying to use a chat model. This way of initializing it is no longer supported. Instead, please use: `from langchain.chat_models import ChatOpenAI`\n",
      "  warnings.warn(\n"
     ]
    }
   ],
   "source": [
    "from langchain.chat_models import ChatOpenAI\n",
    "llm = OpenAI(model_name=MODEL_NAME, temperature=0, api_key=OPENAI_API_KEY)"
   ]
  },
  {
   "cell_type": "code",
   "execution_count": 54,
   "id": "d86450e6",
   "metadata": {},
   "outputs": [],
   "source": [
    "instruction = \"Generate a CSV file with at least 10 real estate listings.\"\n",
    "sample_listing= \\\n",
    "\"\"\"\n",
    "Neighborhood: Downtown San Mateo\n",
    "Price: $1,080,000\n",
    "Bedrooms: 2\n",
    "Bathrooms: 2\n",
    "House Size: 1,500 sqft\n",
    "\n",
    "Description:  Rare & amazing opportunity to own this luxury & updated house that is perfectly situated between Downtown San Mateo & Downtown Burlingame. Stunning 2 bed, 2 bath, home that offers an open & spacious floor plan with a cozy fireplace & living room that extends out to a private patio. \n",
    "Neighborhood Description: complex is secure, well-appointed & within strolling distance of Downtown San Mateo shops, restaurants, & the Japanese Tea Garden. Residents will benefit from quick access to major freeways, Caltrain, Bart, & SFO.\n",
    "\"\"\""
   ]
  },
  {
   "cell_type": "code",
   "execution_count": 49,
   "id": "1e93ffe3",
   "metadata": {},
   "outputs": [],
   "source": [
    "from pydantic import BaseModel, Field, NonNegativeInt\n",
    "from typing import List\n",
    "\n",
    "class RealEstateListing(BaseModel):\n",
    "    \"\"\"\n",
    "    A real estate listing.\n",
    "    \n",
    "    Attributes:\n",
    "    - neighborhood: str\n",
    "    - price: NonNegativeInt\n",
    "    - bedrooms: NonNegativeInt\n",
    "    - bathrooms: NonNegativeInt\n",
    "    - house_size: NonNegativeInt\n",
    "    - description: str\n",
    "    - neighborhood_description: str\n",
    "    \"\"\"\n",
    "    neighborhood: str = Field(description=\"The neighborhood where the property is located\")\n",
    "    price: NonNegativeInt = Field(description=\"The price of the property in USD\")\n",
    "    bedrooms: NonNegativeInt = Field(description=\"The number of bedrooms in the property\")\n",
    "    bathrooms: NonNegativeInt = Field(description=\"The number of bathrooms in the property\")\n",
    "    house_size: NonNegativeInt = Field(description=\"The size of the house in square feet\")\n",
    "    description: str = Field(description=\"A description of the property\")\n",
    "    neighborhood_description: str = Field(description=\"A description of the neighborhood.\")  \n",
    "\n",
    "class ListingCollection(BaseModel):\n",
    "    \"\"\"\n",
    "    A collection of real estate listings.\n",
    "    \n",
    "    Attributes:\n",
    "    - listings: List[RealEstateListing]\n",
    "    \"\"\"\n",
    "    listings: List[RealEstateListing] = Field(description=\"A list of real estate listings\")"
   ]
  },
  {
   "cell_type": "code",
   "execution_count": 50,
   "id": "bf21989d",
   "metadata": {},
   "outputs": [],
   "source": [
    "from langchain.output_parsers import PydanticOutputParser\n",
    "\n",
    "parser = PydanticOutputParser(pydantic_object=ListingCollection)"
   ]
  },
  {
   "cell_type": "code",
   "execution_count": 55,
   "id": "aa06d1ae",
   "metadata": {
    "scrolled": true
   },
   "outputs": [
    {
     "name": "stdout",
     "output_type": "stream",
     "text": [
      "Generate a CSV file with at least 10 real estate listings.\n",
      "\n",
      "Neighborhood: Downtown San Mateo\n",
      "Price: $1,080,000\n",
      "Bedrooms: 2\n",
      "Bathrooms: 2\n",
      "House Size: 1,500 sqft\n",
      "\n",
      "Description:  Rare & amazing opportunity to own this luxury & updated house that is perfectly situated between Downtown San Mateo & Downtown Burlingame. Stunning 2 bed, 2 bath, home that offers an open & spacious floor plan with a cozy fireplace & living room that extends out to a private patio. \n",
      "Neighborhood Description: complex is secure, well-appointed & within strolling distance of Downtown San Mateo shops, restaurants, & the Japanese Tea Garden. Residents will benefit from quick access to major freeways, Caltrain, Bart, & SFO.\n",
      "\n",
      "The output should be formatted as a JSON instance that conforms to the JSON schema below.\n",
      "\n",
      "As an example, for the schema {\"properties\": {\"foo\": {\"title\": \"Foo\", \"description\": \"a list of strings\", \"type\": \"array\", \"items\": {\"type\": \"string\"}}}, \"required\": [\"foo\"]}\n",
      "the object {\"foo\": [\"bar\", \"baz\"]} is a well-formatted instance of the schema. The object {\"properties\": {\"foo\": [\"bar\", \"baz\"]}} is not well-formatted.\n",
      "\n",
      "Here is the output schema:\n",
      "```\n",
      "{\"description\": \"A collection of real estate listings.\\n\\nAttributes:\\n- listings: List[RealEstateListing]\", \"properties\": {\"listings\": {\"title\": \"Listings\", \"description\": \"A list of real estate listings\", \"type\": \"array\", \"items\": {\"$ref\": \"#/definitions/RealEstateListing\"}}}, \"required\": [\"listings\"], \"definitions\": {\"RealEstateListing\": {\"title\": \"RealEstateListing\", \"description\": \"A real estate listing.\\n\\nAttributes:\\n- neighborhood: str\\n- price: NonNegativeInt\\n- bedrooms: NonNegativeInt\\n- bathrooms: NonNegativeInt\\n- house_size: NonNegativeInt\\n- description: str\\n- neighborhood_description: str\", \"type\": \"object\", \"properties\": {\"neighborhood\": {\"title\": \"Neighborhood\", \"description\": \"The neighborhood where the property is located\", \"type\": \"string\"}, \"price\": {\"title\": \"Price\", \"description\": \"The price of the property in USD\", \"minimum\": 0, \"type\": \"integer\"}, \"bedrooms\": {\"title\": \"Bedrooms\", \"description\": \"The number of bedrooms in the property\", \"minimum\": 0, \"type\": \"integer\"}, \"bathrooms\": {\"title\": \"Bathrooms\", \"description\": \"The number of bathrooms in the property\", \"minimum\": 0, \"type\": \"integer\"}, \"house_size\": {\"title\": \"House Size\", \"description\": \"The size of the house in square feet\", \"minimum\": 0, \"type\": \"integer\"}, \"description\": {\"title\": \"Description\", \"description\": \"A description of the property\", \"type\": \"string\"}, \"neighborhood_description\": {\"title\": \"Neighborhood Description\", \"description\": \"A description of the neighborhood.\", \"type\": \"string\"}}, \"required\": [\"neighborhood\", \"price\", \"bedrooms\", \"bathrooms\", \"house_size\", \"description\", \"neighborhood_description\"]}}}\n",
      "```\n",
      "\n"
     ]
    }
   ],
   "source": [
    "from langchain.prompts import PromptTemplate\n",
    "\n",
    "# printing the prompt\n",
    "prompt = PromptTemplate(\n",
    "    template=\"{instruction}\\n{sample}\\n{format_instructions}\\n\",\n",
    "    input_variables=[\"instruction\", \"sample\"],\n",
    "    partial_variables={\"format_instructions\": parser.get_format_instructions},\n",
    ")\n",
    "\n",
    "query = prompt.format(\n",
    "    instruction=instruction,\n",
    "    sample=sample_listing,\n",
    ")\n",
    "print(query)"
   ]
  },
  {
   "cell_type": "code",
   "execution_count": 56,
   "id": "a353bab3",
   "metadata": {},
   "outputs": [],
   "source": [
    "response = llm(query)"
   ]
  },
  {
   "cell_type": "code",
   "execution_count": 6,
   "id": "dcf9bcf8",
   "metadata": {
    "scrolled": false
   },
   "outputs": [
    {
     "name": "stdout",
     "output_type": "stream",
     "text": [
      "Defaulting to user installation because normal site-packages is not writeable\n",
      "Collecting pandas\n",
      "  Downloading pandas-2.2.3-cp310-cp310-manylinux_2_17_x86_64.manylinux2014_x86_64.whl (13.1 MB)\n",
      "\u001b[2K     \u001b[90m━━━━━━━━━━━━━━━━━━━━━━━━━━━━━━━━━━━━━━━━\u001b[0m \u001b[32m13.1/13.1 MB\u001b[0m \u001b[31m61.7 MB/s\u001b[0m eta \u001b[36m0:00:00\u001b[0m00:01\u001b[0m00:01\u001b[0m\n",
      "\u001b[?25hRequirement already satisfied: numpy>=1.22.4 in /opt/conda/lib/python3.10/site-packages (from pandas) (1.24.3)\n",
      "Requirement already satisfied: python-dateutil>=2.8.2 in /opt/conda/lib/python3.10/site-packages (from pandas) (2.9.0.post0)\n",
      "Requirement already satisfied: pytz>=2020.1 in /opt/conda/lib/python3.10/site-packages (from pandas) (2022.7)\n",
      "Collecting tzdata>=2022.7\n",
      "  Downloading tzdata-2025.1-py2.py3-none-any.whl (346 kB)\n",
      "\u001b[2K     \u001b[90m━━━━━━━━━━━━━━━━━━━━━━━━━━━━━━━━━━━━━━\u001b[0m \u001b[32m346.8/346.8 kB\u001b[0m \u001b[31m28.5 MB/s\u001b[0m eta \u001b[36m0:00:00\u001b[0m\n",
      "\u001b[?25hRequirement already satisfied: six>=1.5 in /opt/conda/lib/python3.10/site-packages (from python-dateutil>=2.8.2->pandas) (1.16.0)\n",
      "Installing collected packages: tzdata, pandas\n",
      "Successfully installed pandas-2.2.3 tzdata-2025.1\n"
     ]
    }
   ],
   "source": [
    "!pip install pandas"
   ]
  },
  {
   "cell_type": "code",
   "execution_count": 7,
   "id": "5e231ddf",
   "metadata": {},
   "outputs": [],
   "source": [
    "import sys\n",
    "sys.path.append(\"/home/student/.local/lib/python3.10/site-packages\")\n"
   ]
  },
  {
   "cell_type": "code",
   "execution_count": 57,
   "id": "e8eedf07",
   "metadata": {
    "scrolled": true
   },
   "outputs": [
    {
     "name": "stdout",
     "output_type": "stream",
     "text": [
      "2.2.3\n",
      "listings=[RealEstateListing(neighborhood='Downtown San Mateo', price=1080000, bedrooms=2, bathrooms=2, house_size=1500, description='Rare & amazing opportunity to own this luxury & updated house that is perfectly situated between Downtown San Mateo & Downtown Burlingame. Stunning 2 bed, 2 bath, home that offers an open & spacious floor plan with a cozy fireplace & living room that extends out to a private patio.', neighborhood_description='Complex is secure, well-appointed & within strolling distance of Downtown San Mateo shops, restaurants, & the Japanese Tea Garden. Residents will benefit from quick access to major freeways, Caltrain, Bart, & SFO.'), RealEstateListing(neighborhood='Sunnyvale', price=950000, bedrooms=3, bathrooms=2, house_size=1800, description='Beautiful single-family home located in the heart of Sunnyvale. This 3 bed, 2 bath property features a spacious backyard, updated kitchen, and a cozy living room with a fireplace.', neighborhood_description='Quiet neighborhood with easy access to parks, schools, and shopping centers. Close to major tech companies and public transportation.'), RealEstateListing(neighborhood='Palo Alto', price=2200000, bedrooms=4, bathrooms=3, house_size=2500, description='Luxurious modern home in the prestigious Palo Alto neighborhood. This 4 bed, 3 bath property boasts high-end finishes, a gourmet kitchen, and a spacious master suite.', neighborhood_description='Prime location near Stanford University, top-rated schools, and upscale dining and shopping options. Easy access to major highways and public transportation.'), RealEstateListing(neighborhood='Mountain View', price=1200000, bedrooms=3, bathrooms=2, house_size=1600, description='Charming ranch-style home in the desirable Mountain View neighborhood. Featuring 3 beds, 2 baths, a large backyard, and a bright and airy living space.', neighborhood_description='Close to tech campuses, parks, and downtown Mountain View. Easy access to freeways and public transportation for a convenient commute.'), RealEstateListing(neighborhood='Redwood City', price=1350000, bedrooms=4, bathrooms=3, house_size=2200, description='Spacious family home in a quiet Redwood City neighborhood. This 4 bed, 3 bath property offers a large kitchen, formal dining room, and a backyard perfect for entertaining.', neighborhood_description='Close to schools, parks, and shopping centers. Easy access to major highways and public transportation for commuting to Silicon Valley.'), RealEstateListing(neighborhood='Menlo Park', price=1800000, bedrooms=5, bathrooms=4, house_size=3000, description='Elegant estate in the prestigious Menlo Park neighborhood. This 5 bed, 4 bath property features a grand foyer, formal living and dining rooms, and a private backyard oasis.', neighborhood_description='Located near top-rated schools, parks, and upscale dining and shopping options. Easy access to major tech companies and public transportation.'), RealEstateListing(neighborhood='San Francisco', price=2500000, bedrooms=3, bathrooms=3, house_size=2000, description='Modern luxury condo in the heart of San Francisco. This 3 bed, 3 bath property offers panoramic city views, high-end finishes, and a rooftop terrace.', neighborhood_description='Prime location near Union Square, restaurants, shopping, and cultural attractions. Easy access to public transportation and major highways.'), RealEstateListing(neighborhood='Oakland', price=900000, bedrooms=2, bathrooms=1, house_size=1200, description='Cozy bungalow in the vibrant Oakland neighborhood. Featuring 2 beds, 1 bath, a sunny backyard, and a charming front porch.', neighborhood_description='Close to local cafes, shops, and parks. Easy access to public transportation and freeways for commuting to San Francisco and the East Bay.'), RealEstateListing(neighborhood='Berkeley', price=1100000, bedrooms=3, bathrooms=2, house_size=1600, description='Classic craftsman home in the sought-after Berkeley neighborhood. This 3 bed, 2 bath property boasts original details, a spacious kitchen, and a landscaped backyard.', neighborhood_description='Located near UC Berkeley, parks, and gourmet dining options. Easy access to BART and freeways for commuting to San Francisco and the East Bay.'), RealEstateListing(neighborhood='San Jose', price=800000, bedrooms=4, bathrooms=2, house_size=1800, description='Spacious family home in a quiet San Jose neighborhood. This 4 bed, 2 bath property features a large living room, updated kitchen, and a backyard with fruit trees.', neighborhood_description='Close to schools, parks, and shopping centers. Easy access to major tech companies and freeways for commuting throughout the Bay Area.')]\n"
     ]
    },
    {
     "data": {
      "text/html": [
       "<div>\n",
       "<style scoped>\n",
       "    .dataframe tbody tr th:only-of-type {\n",
       "        vertical-align: middle;\n",
       "    }\n",
       "\n",
       "    .dataframe tbody tr th {\n",
       "        vertical-align: top;\n",
       "    }\n",
       "\n",
       "    .dataframe thead th {\n",
       "        text-align: right;\n",
       "    }\n",
       "</style>\n",
       "<table border=\"1\" class=\"dataframe\">\n",
       "  <thead>\n",
       "    <tr style=\"text-align: right;\">\n",
       "      <th></th>\n",
       "      <th>neighborhood</th>\n",
       "      <th>price</th>\n",
       "      <th>bedrooms</th>\n",
       "      <th>bathrooms</th>\n",
       "      <th>house_size</th>\n",
       "      <th>description</th>\n",
       "      <th>neighborhood_description</th>\n",
       "    </tr>\n",
       "  </thead>\n",
       "  <tbody>\n",
       "    <tr>\n",
       "      <th>0</th>\n",
       "      <td>Downtown San Mateo</td>\n",
       "      <td>1080000</td>\n",
       "      <td>2</td>\n",
       "      <td>2</td>\n",
       "      <td>1500</td>\n",
       "      <td>Rare &amp; amazing opportunity to own this luxury ...</td>\n",
       "      <td>Complex is secure, well-appointed &amp; within str...</td>\n",
       "    </tr>\n",
       "    <tr>\n",
       "      <th>1</th>\n",
       "      <td>Sunnyvale</td>\n",
       "      <td>950000</td>\n",
       "      <td>3</td>\n",
       "      <td>2</td>\n",
       "      <td>1800</td>\n",
       "      <td>Beautiful single-family home located in the he...</td>\n",
       "      <td>Quiet neighborhood with easy access to parks, ...</td>\n",
       "    </tr>\n",
       "    <tr>\n",
       "      <th>2</th>\n",
       "      <td>Palo Alto</td>\n",
       "      <td>2200000</td>\n",
       "      <td>4</td>\n",
       "      <td>3</td>\n",
       "      <td>2500</td>\n",
       "      <td>Luxurious modern home in the prestigious Palo ...</td>\n",
       "      <td>Prime location near Stanford University, top-r...</td>\n",
       "    </tr>\n",
       "    <tr>\n",
       "      <th>3</th>\n",
       "      <td>Mountain View</td>\n",
       "      <td>1200000</td>\n",
       "      <td>3</td>\n",
       "      <td>2</td>\n",
       "      <td>1600</td>\n",
       "      <td>Charming ranch-style home in the desirable Mou...</td>\n",
       "      <td>Close to tech campuses, parks, and downtown Mo...</td>\n",
       "    </tr>\n",
       "    <tr>\n",
       "      <th>4</th>\n",
       "      <td>Redwood City</td>\n",
       "      <td>1350000</td>\n",
       "      <td>4</td>\n",
       "      <td>3</td>\n",
       "      <td>2200</td>\n",
       "      <td>Spacious family home in a quiet Redwood City n...</td>\n",
       "      <td>Close to schools, parks, and shopping centers....</td>\n",
       "    </tr>\n",
       "    <tr>\n",
       "      <th>5</th>\n",
       "      <td>Menlo Park</td>\n",
       "      <td>1800000</td>\n",
       "      <td>5</td>\n",
       "      <td>4</td>\n",
       "      <td>3000</td>\n",
       "      <td>Elegant estate in the prestigious Menlo Park n...</td>\n",
       "      <td>Located near top-rated schools, parks, and ups...</td>\n",
       "    </tr>\n",
       "    <tr>\n",
       "      <th>6</th>\n",
       "      <td>San Francisco</td>\n",
       "      <td>2500000</td>\n",
       "      <td>3</td>\n",
       "      <td>3</td>\n",
       "      <td>2000</td>\n",
       "      <td>Modern luxury condo in the heart of San Franci...</td>\n",
       "      <td>Prime location near Union Square, restaurants,...</td>\n",
       "    </tr>\n",
       "    <tr>\n",
       "      <th>7</th>\n",
       "      <td>Oakland</td>\n",
       "      <td>900000</td>\n",
       "      <td>2</td>\n",
       "      <td>1</td>\n",
       "      <td>1200</td>\n",
       "      <td>Cozy bungalow in the vibrant Oakland neighborh...</td>\n",
       "      <td>Close to local cafes, shops, and parks. Easy a...</td>\n",
       "    </tr>\n",
       "    <tr>\n",
       "      <th>8</th>\n",
       "      <td>Berkeley</td>\n",
       "      <td>1100000</td>\n",
       "      <td>3</td>\n",
       "      <td>2</td>\n",
       "      <td>1600</td>\n",
       "      <td>Classic craftsman home in the sought-after Ber...</td>\n",
       "      <td>Located near UC Berkeley, parks, and gourmet d...</td>\n",
       "    </tr>\n",
       "    <tr>\n",
       "      <th>9</th>\n",
       "      <td>San Jose</td>\n",
       "      <td>800000</td>\n",
       "      <td>4</td>\n",
       "      <td>2</td>\n",
       "      <td>1800</td>\n",
       "      <td>Spacious family home in a quiet San Jose neigh...</td>\n",
       "      <td>Close to schools, parks, and shopping centers....</td>\n",
       "    </tr>\n",
       "  </tbody>\n",
       "</table>\n",
       "</div>"
      ],
      "text/plain": [
       "         neighborhood    price  bedrooms  bathrooms  house_size  \\\n",
       "0  Downtown San Mateo  1080000         2          2        1500   \n",
       "1           Sunnyvale   950000         3          2        1800   \n",
       "2           Palo Alto  2200000         4          3        2500   \n",
       "3       Mountain View  1200000         3          2        1600   \n",
       "4        Redwood City  1350000         4          3        2200   \n",
       "5          Menlo Park  1800000         5          4        3000   \n",
       "6       San Francisco  2500000         3          3        2000   \n",
       "7             Oakland   900000         2          1        1200   \n",
       "8            Berkeley  1100000         3          2        1600   \n",
       "9            San Jose   800000         4          2        1800   \n",
       "\n",
       "                                         description  \\\n",
       "0  Rare & amazing opportunity to own this luxury ...   \n",
       "1  Beautiful single-family home located in the he...   \n",
       "2  Luxurious modern home in the prestigious Palo ...   \n",
       "3  Charming ranch-style home in the desirable Mou...   \n",
       "4  Spacious family home in a quiet Redwood City n...   \n",
       "5  Elegant estate in the prestigious Menlo Park n...   \n",
       "6  Modern luxury condo in the heart of San Franci...   \n",
       "7  Cozy bungalow in the vibrant Oakland neighborh...   \n",
       "8  Classic craftsman home in the sought-after Ber...   \n",
       "9  Spacious family home in a quiet San Jose neigh...   \n",
       "\n",
       "                            neighborhood_description  \n",
       "0  Complex is secure, well-appointed & within str...  \n",
       "1  Quiet neighborhood with easy access to parks, ...  \n",
       "2  Prime location near Stanford University, top-r...  \n",
       "3  Close to tech campuses, parks, and downtown Mo...  \n",
       "4  Close to schools, parks, and shopping centers....  \n",
       "5  Located near top-rated schools, parks, and ups...  \n",
       "6  Prime location near Union Square, restaurants,...  \n",
       "7  Close to local cafes, shops, and parks. Easy a...  \n",
       "8  Located near UC Berkeley, parks, and gourmet d...  \n",
       "9  Close to schools, parks, and shopping centers....  "
      ]
     },
     "execution_count": 57,
     "metadata": {},
     "output_type": "execute_result"
    }
   ],
   "source": [
    "import pandas as pd\n",
    "from fastapi.encoders import jsonable_encoder\n",
    "\n",
    "print(pd.__version__)  # Check if it's installed correctly\n",
    "# create a dataframe from the response\n",
    "result = parser.parse(response)\n",
    "print(result)\n",
    "df = pd.DataFrame(jsonable_encoder(result.listings))\n",
    "df.head()\n",
    "df"
   ]
  },
  {
   "cell_type": "code",
   "execution_count": 58,
   "id": "5c90126f",
   "metadata": {},
   "outputs": [],
   "source": [
    "# save the dataframe to a csv file\n",
    "df.to_csv('listings.csv', index_label = 'id')"
   ]
  },
  {
   "cell_type": "markdown",
   "id": "4d5d39f2",
   "metadata": {},
   "source": [
    "## Step 3: Storing Listings in a Vector Database\n",
    "\n",
    "`Vector Database Setup:` Initialize and configure ChromaDB or a similar vector database to store real estate listings.\n",
    "\n",
    "`Generating and Storing Embeddings:` Convert the LLM-generated listings into suitable embeddings that capture the semantic content of each listing, and store these embeddings in the vector database."
   ]
  },
  {
   "cell_type": "code",
   "execution_count": 9,
   "id": "e1bc53d4",
   "metadata": {},
   "outputs": [
    {
     "name": "stdout",
     "output_type": "stream",
     "text": [
      "Split 10 documents into 10 chunks.\n",
      "Spacious family home in a quiet San Jose neighborhood. This 4 bed, 2 bath property features a large living room, updated kitchen, and a backyard with fruit trees.\n",
      "{'id': '9', 'start_index': 0}\n",
      "Saved 10 chunks to chroma.\n"
     ]
    }
   ],
   "source": [
    "import shutil\n",
    "import pandas as pd\n",
    "\n",
    "from langchain.embeddings import OpenAIEmbeddings\n",
    "from langchain.vectorstores.chroma import Chroma\n",
    "from langchain.schema import Document\n",
    "from langchain.text_splitter import RecursiveCharacterTextSplitter\n",
    "\n",
    "# Initialize and configure ChromaDB or a similar vector database to store real estate listings\n",
    "CHROMA_PATH = \"chroma\"\n",
    "CSV_PATH = \"listings.csv\" \n",
    "\n",
    "embedding_function = OpenAIEmbeddings()\n",
    "\n",
    "df = pd.read_csv(CSV_PATH)\n",
    "documents = []\n",
    "for index, row in df.iterrows():\n",
    "    documents.append(Document(page_content=row['description'], metadata={'id': str(index)}))\n",
    "\n",
    "\n",
    "# Split Text\n",
    "text_splitter = RecursiveCharacterTextSplitter(\n",
    "    chunk_size=1000, # keep all listing\n",
    "    chunk_overlap=50,\n",
    "    length_function=len,\n",
    "    add_start_index=True,\n",
    ")\n",
    "chunks = text_splitter.split_documents(documents)\n",
    "print(f\"Split {len(documents)} documents into {len(chunks)} chunks.\")\n",
    "\n",
    "if chunks:\n",
    "    document = chunks[9]\n",
    "    print(document.page_content)\n",
    "    print(document.metadata)\n",
    "\n",
    "# Save to Chroma\n",
    "if os.path.exists(CHROMA_PATH):\n",
    "    shutil.rmtree(CHROMA_PATH)\n",
    "\n",
    "db = Chroma.from_documents(\n",
    "    chunks, OpenAIEmbeddings(), persist_directory=CHROMA_PATH\n",
    ")\n",
    "db.persist()\n",
    "print(f\"Saved {len(chunks)} chunks to {CHROMA_PATH}.\")"
   ]
  },
  {
   "cell_type": "markdown",
   "id": "d6963c1b",
   "metadata": {},
   "source": [
    "## Step 4: Building the User Preference Interface\n",
    "\n",
    "- Collect buyer preferences, such as the number of bedrooms, bathrooms, location, and other specific requirements from a set of questions or telling the buyer to enter their preferences in natural language. \n",
    "Example:\n",
    "\n",
    "```python\n",
    "questions = [   \n",
    "                \"How big do you want your house to be?\" \n",
    "                \"What are 3 most important things for you in choosing this property?\", \n",
    "                \"Which amenities would you like?\", \n",
    "                \"Which transportation options are important to you?\",\n",
    "                \"How urban do you want your neighborhood to be?\",   \n",
    "            ]\n",
    "answers = [\n",
    "    \"A comfortable three-bedroom house with a spacious kitchen and a cozy living room.\",\n",
    "    \"A quiet neighborhood, good local schools, and convenient shopping options.\",\n",
    "    \"A backyard for gardening, a two-car garage, and a modern, energy-efficient heating system.\",\n",
    "    \"Easy access to a reliable bus line, proximity to a major highway, and bike-friendly roads.\",\n",
    "    \"A balance between suburban tranquility and access to urban amenities like restaurants and theaters.\"\n",
    "]\n",
    "```\n",
    "- Buyer Preference Parsing: Implement logic to interpret and structure these preferences for querying the vector database."
   ]
  },
  {
   "cell_type": "code",
   "execution_count": 10,
   "id": "33ec806e",
   "metadata": {},
   "outputs": [],
   "source": [
    "PROMPT_TEMPLATE =\\\n",
    "\"\"\"\n",
    "Based on the following context:\n",
    "\n",
    "{context}\n",
    "\n",
    "---\n",
    "\n",
    "Answer the question : {question}\n",
    "\"\"\""
   ]
  },
  {
   "cell_type": "markdown",
   "id": "d318756a",
   "metadata": {},
   "source": [
    "## Step 5: Searching Based on Preferences\n",
    "\n",
    "- Semantic Search Implementation: Use the structured buyer preferences to perform a semantic search on the vector database, retrieving listings that most closely match the user's requirements.\n",
    "- Listing Retrieval Logic: Fine-tune the retrieval algorithm to ensure that the most relevant listings are selected based on the semantic closeness to the buyer’s preferences."
   ]
  },
  {
   "cell_type": "code",
   "execution_count": 11,
   "id": "812492ad",
   "metadata": {},
   "outputs": [],
   "source": [
    "from langchain.prompts import ChatPromptTemplate\n"
   ]
  },
  {
   "cell_type": "code",
   "execution_count": 21,
   "id": "e69c5c33",
   "metadata": {},
   "outputs": [],
   "source": [
    "# Define the Prompt Template\n",
    "PROMPT_TEMPLATE = \"\"\"\n",
    "You are an AI assistant that helps generate real estate listings based on provided data. \n",
    "\n",
    "### Context:\n",
    "{context}\n",
    "\n",
    "### Task:\n",
    "Using the information above, answer the following question:\n",
    "\n",
    "{question}\n",
    "\n",
    "### Guidelines:\n",
    "- Use clear, concise language.\n",
    "- Provide structured responses with details like **Neighborhood, Price, Bedrooms, Bathrooms, House Size, Description, and Neighborhood Description**.\n",
    "- Maintain a professional yet engaging tone.\n",
    "\n",
    "Respond accurately based on the given context.\n",
    "\"\"\"\n"
   ]
  },
  {
   "cell_type": "code",
   "execution_count": 22,
   "id": "fd611f6f",
   "metadata": {},
   "outputs": [],
   "source": [
    "def predict_response(query_text, PROMPT_TEMPLATE):\n",
    "    embedding_function = OpenAIEmbeddings()\n",
    "    db = Chroma(persist_directory=CHROMA_PATH, embedding_function=embedding_function)\n",
    "\n",
    "    # Search the DB.\n",
    "    results = db.similarity_search_with_relevance_scores(query_text, k=3)\n",
    "    # print(results)\n",
    "    if len(results) == 0 or results[0][1] < 0.75:\n",
    "        print(f\"Unable to find matching results.\")\n",
    "    else:\n",
    "        context_text = \"\\n\\n---\\n\\n\".join([doc.page_content for doc, _score in results])\n",
    "        sources = [doc.metadata.get(\"id\", None) for doc, _score in results]\n",
    "        prompt_template = ChatPromptTemplate.from_template(PROMPT_TEMPLATE)\n",
    "        prompt = prompt_template.format(context=context_text, question=query_text)\n",
    "        print(f\"Generated Prompt:\\n{prompt}\")\n",
    "        \n",
    "        model = ChatOpenAI()\n",
    "        response_text = model.predict(prompt)\n",
    "        print (f\"Response: {response_text}\\nSources: {sources}\")"
   ]
  },
  {
   "cell_type": "code",
   "execution_count": 23,
   "id": "f19d7f37",
   "metadata": {
    "scrolled": false
   },
   "outputs": [
    {
     "name": "stdout",
     "output_type": "stream",
     "text": [
      "Generated Prompt:\n",
      "Human: \n",
      "You are an AI assistant that helps generate real estate listings based on provided data. \n",
      "\n",
      "### Context:\n",
      "Luxurious modern home in the prestigious Palo Alto neighborhood. This 4 bed, 3 bath property boasts high-end finishes, a gourmet kitchen, and a spacious master suite.\n",
      "\n",
      "---\n",
      "\n",
      "Spacious family home in a quiet San Jose neighborhood. This 4 bed, 2 bath property features a large living room, updated kitchen, and a backyard with fruit trees.\n",
      "\n",
      "---\n",
      "\n",
      "Spacious family home in a quiet Redwood City neighborhood. This 4 bed, 3 bath property offers a large kitchen, formal dining room, and a backyard perfect for entertaining.\n",
      "\n",
      "### Task:\n",
      "Using the information above, answer the following question:\n",
      "\n",
      "A house with gourmet kitchen\n",
      "\n",
      "### Guidelines:\n",
      "- Use clear, concise language.\n",
      "- Provide structured responses with details like **Neighborhood, Price, Bedrooms, Bathrooms, House Size, Description, and Neighborhood Description**.\n",
      "- Maintain a professional yet engaging tone.\n",
      "\n",
      "Respond accurately based on the given context.\n",
      "\n",
      "Response: **Neighborhood:** Palo Alto\n",
      "\n",
      "**Price:** Varies depending on market conditions\n",
      "\n",
      "**Bedrooms:** 4\n",
      "\n",
      "**Bathrooms:** 3\n",
      "\n",
      "**House Size:** Spacious\n",
      "\n",
      "**Description:** This luxurious modern home in the prestigious Palo Alto neighborhood features a gourmet kitchen, high-end finishes, and a spacious master suite. The property boasts 4 bedrooms, 3 bathrooms, and offers a perfect blend of elegance and functionality. \n",
      "\n",
      "**Neighborhood Description:** Palo Alto is known for its upscale living, top-rated schools, and proximity to Silicon Valley tech companies. The neighborhood offers a vibrant community with beautiful parks, trendy shops, and fine dining options. It's an ideal location for those seeking a sophisticated lifestyle in a prime location.\n",
      "Sources: ['2', '9', '4']\n"
     ]
    }
   ],
   "source": [
    "predict_response(\"A house with gourmet kitchen\" , PROMPT_TEMPLATE)"
   ]
  },
  {
   "cell_type": "code",
   "execution_count": 24,
   "id": "92936bcb",
   "metadata": {
    "scrolled": true
   },
   "outputs": [
    {
     "name": "stdout",
     "output_type": "stream",
     "text": [
      "Unable to find matching results.\n"
     ]
    }
   ],
   "source": [
    "predict_response('A house price below $300,000', PROMPT_TEMPLATE)"
   ]
  },
  {
   "cell_type": "markdown",
   "id": "ff10ff09",
   "metadata": {},
   "source": [
    "## Step 6: Personalizing Listing Descriptions\n",
    "\n",
    "- LLM Augmentation: For each retrieved listing, use the LLM to augment the description, tailoring it to resonate with the buyer’s specific preferences. This involves subtly emphasizing aspects of the property that align with what the buyer is looking for.\n",
    "- Maintaining Factual Integrity: Ensure that the augmentation process enhances the appeal of the listing without altering factual information."
   ]
  },
  {
   "cell_type": "code",
   "execution_count": 29,
   "id": "20235659",
   "metadata": {},
   "outputs": [],
   "source": [
    "# Define the Prompt Template\n",
    "buyer_preferences = \"\"\"\n",
    "- Budget: $1,900,000 max\n",
    "- Neighborhood: Downtown San Mateo or close areas\n",
    "- Bedrooms: At least 2\n",
    "- Bathrooms: At least 2\n",
    "- Would like easy access to public transportation\n",
    "\"\"\"\n",
    "\n",
    "AUGMENT_PROMPT_TEMPLATE = \"\"\"\n",
    "You are an AI assistant that helps generate real estate listings based on provided data. \n",
    "\n",
    "### Context:\n",
    "{context}\n",
    "\n",
    "### Buyer Preferences:\n",
    "{buyer_preferences}\n",
    "\n",
    "\n",
    "### Task:\n",
    "Using the information above, answer the following question:\n",
    "\n",
    "{question}\n",
    "\n",
    "### Guidelines:\n",
    "- Use clear, concise language.\n",
    "- Provide structured responses with details like **Neighborhood, Price, Bedrooms, Bathrooms, House Size, Description, and Neighborhood Description**.\n",
    "- Maintain a professional yet engaging tone.\n",
    "\n",
    "craft a response that not only answers the question {question}, but also ensures that your explanation is distinct, captivating, and customized to align with the specified preferences. This involves subtly emphasizing aspects of the property that align with what the buyer is looking for.\n",
    "\"\"\"\n",
    "\n"
   ]
  },
  {
   "cell_type": "code",
   "execution_count": 32,
   "id": "dd12c028",
   "metadata": {},
   "outputs": [
    {
     "name": "stdout",
     "output_type": "stream",
     "text": [
      "Generated Prompt:\n",
      "Human: \n",
      "You are an AI assistant that helps generate real estate listings based on provided data. \n",
      "\n",
      "### Context:\n",
      "Luxurious modern home in the prestigious Palo Alto neighborhood. This 4 bed, 3 bath property boasts high-end finishes, a gourmet kitchen, and a spacious master suite.\n",
      "\n",
      "---\n",
      "\n",
      "Spacious family home in a quiet San Jose neighborhood. This 4 bed, 2 bath property features a large living room, updated kitchen, and a backyard with fruit trees.\n",
      "\n",
      "---\n",
      "\n",
      "Spacious family home in a quiet Redwood City neighborhood. This 4 bed, 3 bath property offers a large kitchen, formal dining room, and a backyard perfect for entertaining.\n",
      "\n",
      "### Buyer Preferences:\n",
      "\n",
      "- Budget: $1,900,000 max\n",
      "- Neighborhood: Downtown San Mateo or close areas\n",
      "- Bedrooms: At least 2\n",
      "- Bathrooms: At least 2\n",
      "- Would like easy access to public transportation\n",
      "\n",
      "\n",
      "\n",
      "### Task:\n",
      "Using the information above, answer the following question:\n",
      "\n",
      "A house with gourmet kitchen\n",
      "\n",
      "### Guidelines:\n",
      "- Use clear, concise language.\n",
      "- Provide structured responses with details like **Neighborhood, Price, Bedrooms, Bathrooms, House Size, Description, and Neighborhood Description**.\n",
      "- Maintain a professional yet engaging tone.\n",
      "\n",
      "craft a response that not only answers the question A house with gourmet kitchen, but also ensures that your explanation is distinct, captivating, and customized to align with the specified preferences. This involves subtly emphasizing aspects of the property that align with what the buyer is looking for.\n",
      "\n",
      "Response: Based on your preferences, I have found a stunning property that perfectly fits your criteria. \n",
      "\n",
      "**Neighborhood:** Downtown San Mateo\n",
      "\n",
      "**Price:** Within your $1,900,000 budget\n",
      "\n",
      "**Bedrooms:** 4\n",
      "\n",
      "**Bathrooms:** 3\n",
      "\n",
      "**House Size:** Spacious\n",
      "\n",
      "**Description:** This luxurious modern home in Downtown San Mateo offers a gourmet kitchen that is sure to impress any culinary enthusiast. With high-end finishes and top-of-the-line appliances, this kitchen is a chef's dream. The property features 4 bedrooms, 3 bathrooms, a spacious master suite, and a beautifully landscaped backyard perfect for entertaining. \n",
      "\n",
      "**Neighborhood Description:** Downtown San Mateo is a vibrant area with easy access to public transportation, trendy restaurants, shopping centers, and entertainment venues. This upscale neighborhood provides a perfect blend of convenience and luxury, making it an ideal location for those seeking a modern and sophisticated lifestyle. \n",
      "\n",
      "This property not only meets your requirements but also exceeds expectations with its gourmet kitchen and upscale features. It truly embodies the essence of luxurious living in the heart of Downtown San Mateo.\n",
      "Sources: ['2', '9', '4']\n"
     ]
    }
   ],
   "source": [
    "# Search the DB.\n",
    "query_text = \"A house with gourmet kitchen\"\n",
    "results = db.similarity_search_with_relevance_scores(query_text, k=3)\n",
    "context_text = \"\\n\\n---\\n\\n\".join([doc.page_content for doc, _score in results])\n",
    "sources = [doc.metadata.get(\"id\", None) for doc, _score in results]\n",
    "\n",
    "prompt_template = ChatPromptTemplate.from_template(AUGMENT_PROMPT_TEMPLATE)\n",
    "prompt = prompt_template.format(context=context_text, \n",
    "                                buyer_preferences=buyer_preferences,\n",
    "                                question=query_text)\n",
    "\n",
    "# Print and Generate Response\n",
    "print(f\"Generated Prompt:\\n{prompt}\")\n",
    "\n",
    "model = ChatOpenAI()\n",
    "response_text = model.predict(prompt)\n",
    "print (f\"Response: {response_text}\\nSources: {sources}\")\n"
   ]
  },
  {
   "cell_type": "markdown",
   "id": "4e180740",
   "metadata": {},
   "source": [
    "## Step 7: Deliverables and Testing\n",
    "\n",
    "- Test your \"HomeMatch\" application and make sure it meets all of the requirements in the rubric(opens in a new tab). "
   ]
  },
  {
   "cell_type": "markdown",
   "id": "5988ed4e",
   "metadata": {},
   "source": [
    "### Application was used with several queries: \n",
    "    - unrelistic query - returned 0 matches\n",
    "    - realistic query - returned 3 matches with details about the property\n",
    "    - same realistic query - it returned enhanced listing based on buyer preferences "
   ]
  },
  {
   "cell_type": "code",
   "execution_count": null,
   "id": "2c8bb610",
   "metadata": {},
   "outputs": [],
   "source": []
  }
 ],
 "metadata": {
  "kernelspec": {
   "display_name": "Python 3 (ipykernel)",
   "language": "python",
   "name": "python3"
  },
  "language_info": {
   "codemirror_mode": {
    "name": "ipython",
    "version": 3
   },
   "file_extension": ".py",
   "mimetype": "text/x-python",
   "name": "python",
   "nbconvert_exporter": "python",
   "pygments_lexer": "ipython3",
   "version": "3.10.11"
  }
 },
 "nbformat": 4,
 "nbformat_minor": 5
}
